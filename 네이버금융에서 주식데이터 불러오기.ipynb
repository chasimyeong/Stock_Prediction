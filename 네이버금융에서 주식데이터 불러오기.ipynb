{
 "cells": [
  {
   "cell_type": "markdown",
   "metadata": {},
   "source": [
    "# 네이버금융에서 주식데이터 불러오기"
   ]
  },
  {
   "cell_type": "markdown",
   "metadata": {},
   "source": [
    "## 1. 네이버 금융에서 주식 데이터 불러오기\n",
    "\n",
    "출처 - https://excelsior-cjh.tistory.com/109\n"
   ]
  },
  {
   "cell_type": "code",
   "execution_count": 1,
   "metadata": {},
   "outputs": [
    {
     "name": "stdout",
     "output_type": "stream",
     "text": [
      "82.48588846333382\n"
     ]
    }
   ],
   "source": [
    "import pandas as pd\n",
    "df = pd.read_html('http://kind.krx.co.kr/corpgeneral/corpList.do?method=download&searchType=13', header=0)[0]\n",
    "\n",
    "#종목코드는 6자리이므로 6자리로 맞춰준다.\n",
    "df['종목코드'] = df['종목코드'].map('{:06d}'.format)\n",
    "\n",
    "# 우리가 필요한 것은 회사명과 종목코드이기 때문에 필요없는 column들은 제외해준다. \n",
    "df = df[['회사명', '종목코드']]\n",
    "\n",
    "#한글로된 컬럼명을 영어로 바꿔준다.\n",
    "df = df.rename(columns={'회사명':'name', '종목코드':'code'})\n",
    "df.sort_values('name').head()\n",
    "\n",
    "# 원하는 종목의 코드를 가져오는 함수\n",
    "def get_url(item_name, data):\n",
    "    code = data[data['name'] == item_name]['code']\n",
    "    url = ('http://finance.naver.com/item/sise_day.nhn?code=' + code.iloc[0])\n",
    "    return url\n",
    "\n",
    "url = get_url('카카오', df)\n",
    "\n",
    "#일자 데이터를 담을 df라는 DataFrame 정의\n",
    "stock = pd.DataFrame()\n",
    "\n",
    "# 1페이지에서 476페이지까지 가져오기\n",
    "import timeit\n",
    "start = timeit.default_timer()\n",
    "\n",
    "for page in range(1, 476):\n",
    "    pg_url = '{url}&page={page}'.format(url=url, page=page)\n",
    "    stock = stock.append(pd.read_html(pg_url, header=0)[0], ignore_index=True)\n",
    "    \n",
    "stock = stock.dropna()\n",
    "\n",
    "stop = timeit.default_timer()\n",
    "print(stop - start)\n",
    "\n",
    "stock = stock.sort_values(by=['날짜'])"
   ]
  },
  {
   "cell_type": "code",
   "execution_count": 2,
   "metadata": {},
   "outputs": [
    {
     "data": {
      "text/html": [
       "<div>\n",
       "<style scoped>\n",
       "    .dataframe tbody tr th:only-of-type {\n",
       "        vertical-align: middle;\n",
       "    }\n",
       "\n",
       "    .dataframe tbody tr th {\n",
       "        vertical-align: top;\n",
       "    }\n",
       "\n",
       "    .dataframe thead th {\n",
       "        text-align: right;\n",
       "    }\n",
       "</style>\n",
       "<table border=\"1\" class=\"dataframe\">\n",
       "  <thead>\n",
       "    <tr style=\"text-align: right;\">\n",
       "      <th></th>\n",
       "      <th>날짜</th>\n",
       "      <th>종가</th>\n",
       "      <th>전일비</th>\n",
       "      <th>시가</th>\n",
       "      <th>고가</th>\n",
       "      <th>저가</th>\n",
       "      <th>거래량</th>\n",
       "    </tr>\n",
       "  </thead>\n",
       "  <tbody>\n",
       "    <tr>\n",
       "      <th>7123</th>\n",
       "      <td>1999.12.06</td>\n",
       "      <td>75600.0</td>\n",
       "      <td>8100.0</td>\n",
       "      <td>75600.0</td>\n",
       "      <td>75600.0</td>\n",
       "      <td>75600.0</td>\n",
       "      <td>2279.0</td>\n",
       "    </tr>\n",
       "    <tr>\n",
       "      <th>7122</th>\n",
       "      <td>1999.12.07</td>\n",
       "      <td>84600.0</td>\n",
       "      <td>9000.0</td>\n",
       "      <td>84600.0</td>\n",
       "      <td>84600.0</td>\n",
       "      <td>84600.0</td>\n",
       "      <td>1858.0</td>\n",
       "    </tr>\n",
       "    <tr>\n",
       "      <th>7121</th>\n",
       "      <td>1999.12.08</td>\n",
       "      <td>94700.0</td>\n",
       "      <td>10100.0</td>\n",
       "      <td>94700.0</td>\n",
       "      <td>94700.0</td>\n",
       "      <td>94700.0</td>\n",
       "      <td>530.0</td>\n",
       "    </tr>\n",
       "    <tr>\n",
       "      <th>7120</th>\n",
       "      <td>1999.12.09</td>\n",
       "      <td>106000.0</td>\n",
       "      <td>11300.0</td>\n",
       "      <td>106000.0</td>\n",
       "      <td>106000.0</td>\n",
       "      <td>106000.0</td>\n",
       "      <td>303.0</td>\n",
       "    </tr>\n",
       "    <tr>\n",
       "      <th>7119</th>\n",
       "      <td>1999.12.10</td>\n",
       "      <td>118500.0</td>\n",
       "      <td>12500.0</td>\n",
       "      <td>118500.0</td>\n",
       "      <td>118500.0</td>\n",
       "      <td>118500.0</td>\n",
       "      <td>919.0</td>\n",
       "    </tr>\n",
       "  </tbody>\n",
       "</table>\n",
       "</div>"
      ],
      "text/plain": [
       "              날짜        종가      전일비        시가        고가        저가     거래량\n",
       "7123  1999.12.06   75600.0   8100.0   75600.0   75600.0   75600.0  2279.0\n",
       "7122  1999.12.07   84600.0   9000.0   84600.0   84600.0   84600.0  1858.0\n",
       "7121  1999.12.08   94700.0  10100.0   94700.0   94700.0   94700.0   530.0\n",
       "7120  1999.12.09  106000.0  11300.0  106000.0  106000.0  106000.0   303.0\n",
       "7119  1999.12.10  118500.0  12500.0  118500.0  118500.0  118500.0   919.0"
      ]
     },
     "execution_count": 2,
     "metadata": {},
     "output_type": "execute_result"
    }
   ],
   "source": [
    "stock.head()"
   ]
  }
 ],
 "metadata": {
  "kernelspec": {
   "display_name": "Python3.5",
   "language": "python",
   "name": "python3.5"
  },
  "language_info": {
   "codemirror_mode": {
    "name": "ipython",
    "version": 3
   },
   "file_extension": ".py",
   "mimetype": "text/x-python",
   "name": "python",
   "nbconvert_exporter": "python",
   "pygments_lexer": "ipython3",
   "version": "3.5.5"
  }
 },
 "nbformat": 4,
 "nbformat_minor": 2
}
